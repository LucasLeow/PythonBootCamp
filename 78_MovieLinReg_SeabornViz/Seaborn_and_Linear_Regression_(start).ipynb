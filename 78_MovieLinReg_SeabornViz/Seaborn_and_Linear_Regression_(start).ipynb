{
  "cells": [
    {
      "cell_type": "code",
      "execution_count": null,
      "metadata": {},
      "outputs": [],
      "source": [
        "import pandas as pd\n",
        "import numpy as np\n",
        "import matplotlib.pyplot as plt\n",
        "import seaborn as sb\n",
        "from sklearn.linear_model import LinearRegression "
      ]
    },
    {
      "cell_type": "code",
      "execution_count": null,
      "metadata": {},
      "outputs": [],
      "source": [
        "movie_df = pd.read_csv('cost_revenue_dirty.csv')\n",
        "movie_df.shape"
      ]
    },
    {
      "cell_type": "code",
      "execution_count": null,
      "metadata": {},
      "outputs": [],
      "source": [
        "movie_df.head()"
      ]
    },
    {
      "cell_type": "code",
      "execution_count": null,
      "metadata": {},
      "outputs": [],
      "source": [
        "movie_df.dtypes"
      ]
    },
    {
      "cell_type": "code",
      "execution_count": null,
      "metadata": {},
      "outputs": [],
      "source": [
        "movie_df['USD_Production_Budget'] = movie_df['USD_Production_Budget'].astype(str).str.replace('$', '')\n",
        "movie_df['USD_Worldwide_Gross'] = movie_df['USD_Worldwide_Gross'].astype(str).str.replace('$', '')\n",
        "movie_df['USD_Domestic_Gross'] = movie_df['USD_Domestic_Gross'].astype(str).str.replace('$', '')\n",
        "\n",
        "movie_df['USD_Production_Budget'] = movie_df['USD_Production_Budget'].astype(str).str.replace(',', '')\n",
        "movie_df['USD_Worldwide_Gross'] = movie_df['USD_Worldwide_Gross'].astype(str).str.replace(',', '')\n",
        "movie_df['USD_Domestic_Gross'] = movie_df['USD_Domestic_Gross'].astype(str).str.replace(',', '')\n",
        "\n",
        "movie_df['USD_Production_Budget'] = movie_df['USD_Production_Budget'].astype(np.float64)\n",
        "movie_df['USD_Worldwide_Gross'] = movie_df['USD_Worldwide_Gross'].astype(np.float64)\n",
        "movie_df['USD_Domestic_Gross'] = movie_df['USD_Domestic_Gross'].astype(np.float64)"
      ]
    },
    {
      "cell_type": "code",
      "execution_count": null,
      "metadata": {},
      "outputs": [],
      "source": []
    },
    {
      "cell_type": "code",
      "execution_count": null,
      "metadata": {},
      "outputs": [],
      "source": [
        "movie_df['Release_Date'] = pd.to_datetime(movie_df['Release_Date'])"
      ]
    },
    {
      "cell_type": "code",
      "execution_count": null,
      "metadata": {},
      "outputs": [],
      "source": [
        "movie_df.describe()"
      ]
    },
    {
      "cell_type": "code",
      "execution_count": null,
      "metadata": {},
      "outputs": [],
      "source": [
        "movie_df[movie_df['USD_Domestic_Gross'] == 0].shape\n",
        "# 512 movies grossed 0 domestically"
      ]
    },
    {
      "cell_type": "code",
      "execution_count": null,
      "metadata": {},
      "outputs": [],
      "source": [
        "movie_df[movie_df['USD_Domestic_Gross'] == 0].sort_values('USD_Production_Budget', ascending=False).head(3)"
      ]
    },
    {
      "cell_type": "code",
      "execution_count": null,
      "metadata": {},
      "outputs": [],
      "source": [
        "movie_df[movie_df['USD_Worldwide_Gross'] == 0].sort_values('USD_Production_Budget', ascending=False).head(3)"
      ]
    },
    {
      "cell_type": "code",
      "execution_count": null,
      "metadata": {},
      "outputs": [],
      "source": [
        "movie_df[(movie_df['USD_Worldwide_Gross'] > 0) & (movie_df['USD_Domestic_Gross'] == 0)]"
      ]
    },
    {
      "cell_type": "code",
      "execution_count": null,
      "metadata": {},
      "outputs": [],
      "source": [
        "# alternative\n",
        "movie_df.query('USD_Domestic_Gross == 0 and USD_Worldwide_Gross != 0')"
      ]
    },
    {
      "cell_type": "code",
      "execution_count": null,
      "metadata": {},
      "outputs": [],
      "source": [
        "movie_df[movie_df['Release_Date'] >= '2018-05-01'].shape"
      ]
    },
    {
      "cell_type": "code",
      "execution_count": null,
      "metadata": {},
      "outputs": [],
      "source": [
        "df_clean = movie_df[movie_df['Release_Date'] < '2018-05-01']"
      ]
    },
    {
      "cell_type": "code",
      "execution_count": null,
      "metadata": {},
      "outputs": [],
      "source": [
        "df_clean.head()"
      ]
    },
    {
      "cell_type": "code",
      "execution_count": null,
      "metadata": {},
      "outputs": [],
      "source": [
        "df_clean['Total_Gross'] = df_clean['USD_Worldwide_Gross'] + df_clean['USD_Domestic_Gross']"
      ]
    },
    {
      "cell_type": "code",
      "execution_count": null,
      "metadata": {},
      "outputs": [],
      "source": [
        "df_clean[df_clean['Total_Gross'] < df_clean['USD_Production_Budget']]"
      ]
    },
    {
      "cell_type": "code",
      "execution_count": null,
      "metadata": {},
      "outputs": [],
      "source": [
        "movies_losses = df_clean[df_clean['Total_Gross'] < df_clean['USD_Production_Budget']]\n",
        "print(f'{round(len(movies_losses) / len(df_clean) * 100, 2)}%')"
      ]
    },
    {
      "cell_type": "code",
      "execution_count": null,
      "metadata": {},
      "outputs": [],
      "source": []
    },
    {
      "cell_type": "markdown",
      "metadata": {},
      "source": [
        "### Seaborn Visualization"
      ]
    },
    {
      "cell_type": "code",
      "execution_count": null,
      "metadata": {},
      "outputs": [],
      "source": [
        "plt.figure(figsize=(8, 4), dpi=200)\n",
        "with sb.axes_style('darkgrid'): # style single chart instead of applying to all charts\n",
        "    ax = sb.scatterplot(\n",
        "        data=df_clean,\n",
        "        x='USD_Production_Budget',\n",
        "        y='USD_Worldwide_Gross',\n",
        "        hue='USD_Worldwide_Gross',\n",
        "        size='USD_Worldwide_Gross'\n",
        ")\n",
        "\n",
        "ax.set(\n",
        "    ylim=(0, 3e9),\n",
        "    xlim=(0, 4.5e8),\n",
        "    ylabel='Revene in $ billions',\n",
        "    xlabel='Budget in $ 100 millions'\n",
        ")\n",
        "plt.show()"
      ]
    },
    {
      "cell_type": "code",
      "execution_count": null,
      "metadata": {},
      "outputs": [],
      "source": []
    },
    {
      "cell_type": "code",
      "execution_count": null,
      "metadata": {},
      "outputs": [],
      "source": [
        "df_clean.head(1)"
      ]
    },
    {
      "cell_type": "code",
      "execution_count": null,
      "metadata": {},
      "outputs": [],
      "source": [
        "plt.figure(figsize=(8, 4), dpi=200)\n",
        "with sb.axes_style('darkgrid'):\n",
        "    ax = sb.scatterplot(\n",
        "        data=df_clean,\n",
        "        x='Release_Date',\n",
        "        y='USD_Production_Budget',\n",
        "        hue='USD_Worldwide_Gross',\n",
        "        size='USD_Worldwide_Gross'\n",
        "    )\n",
        "    \n",
        "    ax.set(\n",
        "    ylim=(0, 4.5e8),\n",
        "    ylabel='Budget in $100 millions',\n",
        "    xlabel='Year'\n",
        ")\n",
        "    \n",
        "plt.show()"
      ]
    },
    {
      "cell_type": "code",
      "execution_count": null,
      "metadata": {},
      "outputs": [],
      "source": []
    },
    {
      "cell_type": "code",
      "execution_count": null,
      "metadata": {},
      "outputs": [],
      "source": [
        "df_clean.head(1)"
      ]
    },
    {
      "cell_type": "code",
      "execution_count": null,
      "metadata": {},
      "outputs": [],
      "source": [
        "df_clean['Decade'] = pd.DatetimeIndex(df_clean['Release_Date']).year // 10 * 10"
      ]
    },
    {
      "cell_type": "code",
      "execution_count": null,
      "metadata": {},
      "outputs": [],
      "source": [
        "df_clean.head(5)"
      ]
    },
    {
      "cell_type": "code",
      "execution_count": null,
      "metadata": {},
      "outputs": [],
      "source": [
        "old_films = df_clean[df_clean['Decade'] < 1970]\n",
        "new_films = df_clean[df_clean['Decade'] >= 1970]"
      ]
    },
    {
      "cell_type": "code",
      "execution_count": null,
      "metadata": {},
      "outputs": [],
      "source": [
        "old_films.shape"
      ]
    },
    {
      "cell_type": "code",
      "execution_count": null,
      "metadata": {},
      "outputs": [],
      "source": [
        "old_films.sort_values('USD_Production_Budget', ascending=False)"
      ]
    },
    {
      "cell_type": "code",
      "execution_count": null,
      "metadata": {},
      "outputs": [],
      "source": []
    },
    {
      "cell_type": "markdown",
      "metadata": {},
      "source": [
        "### Linear Regression"
      ]
    },
    {
      "cell_type": "code",
      "execution_count": null,
      "metadata": {},
      "outputs": [],
      "source": [
        "plt.figure(figsize=(8, 4), dpi=200)\n",
        "with sb.axes_style('whitegrid'):\n",
        "    sb.regplot(\n",
        "        data=old_films,\n",
        "        x='USD_Production_Budget',\n",
        "        y='USD_Worldwide_Gross',\n",
        "        scatter_kws={'alpha': 0.4},\n",
        "        line_kws={'color': 'black'}\n",
        "    )"
      ]
    },
    {
      "cell_type": "code",
      "execution_count": null,
      "metadata": {},
      "outputs": [],
      "source": [
        "plt.figure(figsize=(8, 4), dpi=200)\n",
        "with sb.axes_style('darkgrid'):\n",
        "    ax = sb.regplot(\n",
        "        data=new_films,\n",
        "        x='USD_Production_Budget',\n",
        "        y='USD_Worldwide_Gross',\n",
        "        color='#2f4b7c',\n",
        "        scatter_kws={'alpha': 0.3},\n",
        "        line_kws={'color': '#ff7c43'}\n",
        "    )\n",
        "    ax.set(\n",
        "        ylim=(0, 3e9),\n",
        "        xlim=(0, 4.5e8),\n",
        "        ylabel='Revenue in $ billions',\n",
        "        xlabel='Budget in $100 millions'\n",
        "    )"
      ]
    },
    {
      "cell_type": "code",
      "execution_count": null,
      "metadata": {},
      "outputs": [],
      "source": []
    },
    {
      "cell_type": "code",
      "execution_count": null,
      "metadata": {},
      "outputs": [],
      "source": [
        "linreg = LinearRegression()"
      ]
    },
    {
      "cell_type": "code",
      "execution_count": null,
      "metadata": {},
      "outputs": [],
      "source": [
        "X = pd.DataFrame(new_films, columns=['USD_Production_Budget']) # feature / independent variable\n",
        "\n",
        "y = pd.DataFrame(new_films, columns=['USD_Worldwide_Gross']) # \"answer key\" "
      ]
    },
    {
      "cell_type": "code",
      "execution_count": null,
      "metadata": {},
      "outputs": [],
      "source": [
        "linreg.fit(X, y)\n"
      ]
    },
    {
      "cell_type": "code",
      "execution_count": null,
      "metadata": {},
      "outputs": [],
      "source": [
        "linreg.intercept_"
      ]
    },
    {
      "cell_type": "code",
      "execution_count": null,
      "metadata": {},
      "outputs": [],
      "source": [
        "linreg.coef_ # slope\n",
        "# for every increase in 1 unit of budget, revenue increase by 3.12 unit"
      ]
    },
    {
      "cell_type": "code",
      "execution_count": null,
      "metadata": {},
      "outputs": [],
      "source": [
        "linreg.score(X, y)\n",
        "# Explained variance (R^2), Model explains 56% of variance in movie revenue"
      ]
    },
    {
      "cell_type": "markdown",
      "metadata": {},
      "source": [
        "### Making Prediction"
      ]
    },
    {
      "cell_type": "code",
      "execution_count": null,
      "metadata": {},
      "outputs": [],
      "source": [
        "supposed_budget = 350e6\n",
        "revenue_estimate = linreg.intercept_[0] + linreg.coef_[0, 0] * supposed_budget\n",
        "revenue_estimate = round(revenue_estimate, -6)\n",
        "revenue_estimate"
      ]
    },
    {
      "cell_type": "code",
      "execution_count": null,
      "metadata": {},
      "outputs": [],
      "source": []
    }
  ],
  "metadata": {
    "colab": {
      "name": "Seaborn and Linear Regression (start).ipynb",
      "provenance": []
    },
    "kernelspec": {
      "display_name": "Python 3",
      "name": "python3"
    },
    "language_info": {
      "codemirror_mode": {
        "name": "ipython",
        "version": 3
      },
      "file_extension": ".py",
      "mimetype": "text/x-python",
      "name": "python",
      "nbconvert_exporter": "python",
      "pygments_lexer": "ipython3",
      "version": "3.9.17"
    }
  },
  "nbformat": 4,
  "nbformat_minor": 0
}
