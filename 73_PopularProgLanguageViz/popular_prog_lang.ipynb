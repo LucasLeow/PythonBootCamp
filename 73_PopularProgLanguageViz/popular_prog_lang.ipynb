{
 "cells": [
  {
   "cell_type": "code",
   "execution_count": null,
   "metadata": {},
   "outputs": [],
   "source": [
    "import pandas as pd"
   ]
  },
  {
   "cell_type": "markdown",
   "metadata": {},
   "source": [
    "### Preliminary Data Analysis"
   ]
  },
  {
   "cell_type": "code",
   "execution_count": null,
   "metadata": {},
   "outputs": [],
   "source": [
    "df = pd.read_csv('QueryResults.csv', names=['DATE', 'TAG', 'POSTS'])\n",
    "print(df.head(), '\\n')\n",
    "print(df.tail())"
   ]
  },
  {
   "cell_type": "code",
   "execution_count": null,
   "metadata": {},
   "outputs": [],
   "source": [
    "print(f'''\n",
    "    Number of rows: {df.shape[0]}\n",
    "    Number of cols: {df.shape[1]}\n",
    "    ''')\n",
    "\n",
    "print('Number of entries: \\n', df.count())"
   ]
  },
  {
   "cell_type": "code",
   "execution_count": null,
   "metadata": {},
   "outputs": [],
   "source": []
  },
  {
   "cell_type": "markdown",
   "metadata": {},
   "source": [
    "### Programming Language with most posts (based on tag)"
   ]
  },
  {
   "cell_type": "code",
   "execution_count": null,
   "metadata": {},
   "outputs": [],
   "source": [
    "# Top 3 Prog. Lang. with most posts\n",
    "clean_df = df.dropna()\n",
    "clean_df.groupby('TAG').sum().sort_values('POSTS', ascending=False)"
   ]
  },
  {
   "cell_type": "markdown",
   "metadata": {},
   "source": [
    "### Months of Post for each programming language"
   ]
  },
  {
   "cell_type": "code",
   "execution_count": null,
   "metadata": {},
   "outputs": [],
   "source": [
    "clean_df.groupby('TAG')['DATE'].count().sort_values(ascending=False)\n",
    "# newer languages will have fewer count of months posted"
   ]
  },
  {
   "cell_type": "code",
   "execution_count": null,
   "metadata": {},
   "outputs": [],
   "source": []
  },
  {
   "cell_type": "markdown",
   "metadata": {},
   "source": [
    "### Working with Timestamps"
   ]
  },
  {
   "cell_type": "code",
   "execution_count": null,
   "metadata": {},
   "outputs": [],
   "source": [
    "type(clean_df['DATE'][1])\n",
    "\n",
    "clean_df['DATE'] = pd.to_datetime(clean_df['DATE'])\n",
    "clean_df.head()"
   ]
  },
  {
   "cell_type": "code",
   "execution_count": null,
   "metadata": {},
   "outputs": [],
   "source": []
  },
  {
   "cell_type": "markdown",
   "metadata": {},
   "source": [
    "### Pivoting Tables"
   ]
  },
  {
   "cell_type": "code",
   "execution_count": null,
   "metadata": {},
   "outputs": [],
   "source": [
    "pivoted_df = clean_df.pivot(\n",
    "    index='DATE',\n",
    "    columns='TAG',\n",
    "    values='POSTS'\n",
    ").fillna(0)"
   ]
  },
  {
   "cell_type": "code",
   "execution_count": null,
   "metadata": {},
   "outputs": [],
   "source": [
    "pivoted_df.head()"
   ]
  },
  {
   "cell_type": "code",
   "execution_count": null,
   "metadata": {},
   "outputs": [],
   "source": [
    "pivoted_df.shape"
   ]
  },
  {
   "cell_type": "code",
   "execution_count": null,
   "metadata": {},
   "outputs": [],
   "source": [
    "pivoted_df.columns"
   ]
  },
  {
   "cell_type": "code",
   "execution_count": null,
   "metadata": {},
   "outputs": [],
   "source": []
  },
  {
   "cell_type": "markdown",
   "metadata": {},
   "source": [
    "### Data Visualization (Matplotlib)"
   ]
  },
  {
   "cell_type": "code",
   "execution_count": null,
   "metadata": {},
   "outputs": [],
   "source": [
    "import matplotlib.pyplot as plt"
   ]
  },
  {
   "cell_type": "code",
   "execution_count": null,
   "metadata": {},
   "outputs": [],
   "source": [
    "fig = plt.figure(figsize=(16, 10))\n",
    "ax = fig.add_subplot()\n",
    "\n",
    "# ax.plot(pivoted_df.index, pivoted_df['java'], label='java')\n",
    "# ax.plot(pivoted_df.index, pivoted_df['python'], label='python')\n",
    "for col in pivoted_df.columns:\n",
    "    ax.plot(pivoted_df.index, pivoted_df[col], linewidth=2, label=pivoted_df[col].name)\n",
    "\n",
    "ax.tick_params(axis='both', colors='white', labelsize=16, size=16)\n",
    "plt.xlabel('Date', fontsize=20, color='white')\n",
    "plt.ylabel('No. of Posts', fontsize=20, color='white')\n",
    "\n",
    "plt.legend(fontsize=\"18\")\n",
    "plt.show()"
   ]
  },
  {
   "cell_type": "code",
   "execution_count": null,
   "metadata": {},
   "outputs": [],
   "source": []
  },
  {
   "cell_type": "markdown",
   "metadata": {},
   "source": [
    "### Smoothing out Time-Series Data\n",
    "* used when many spikes up and down\n",
    "* Averaging 6 - 12 observations within a window of time (rolling mean)\n",
    "* pandas has built-in rolling() or mean()"
   ]
  },
  {
   "cell_type": "code",
   "execution_count": null,
   "metadata": {},
   "outputs": [],
   "source": [
    "roll_df = pivoted_df.rolling(\n",
    "    window=6\n",
    ").mean()\n",
    "\n",
    "print(roll_df.shape)\n",
    "roll_df.head()"
   ]
  },
  {
   "cell_type": "code",
   "execution_count": null,
   "metadata": {},
   "outputs": [],
   "source": [
    "fig = plt.figure(figsize=(16, 10))\n",
    "ax = fig.add_subplot()\n",
    "\n",
    "# ax.plot(pivoted_df.index, pivoted_df['java'], label='java')\n",
    "# ax.plot(pivoted_df.index, pivoted_df['python'], label='python')\n",
    "for col in roll_df.columns:\n",
    "    ax.plot(roll_df.index, roll_df[col], linewidth=2, label=roll_dfs[col].name)\n",
    "\n",
    "ax.tick_params(axis='both', colors='white', labelsize=16, size=16)\n",
    "plt.xlabel('Date', fontsize=20, color='white')\n",
    "plt.ylabel('No. of Posts', fontsize=20, color='white')\n",
    "\n",
    "plt.legend(fontsize=\"18\")\n",
    "plt.show()"
   ]
  },
  {
   "cell_type": "code",
   "execution_count": null,
   "metadata": {},
   "outputs": [],
   "source": []
  }
 ],
 "metadata": {
  "kernelspec": {
   "display_name": "pandas",
   "language": "python",
   "name": "python3"
  },
  "language_info": {
   "codemirror_mode": {
    "name": "ipython",
    "version": 3
   },
   "file_extension": ".py",
   "mimetype": "text/x-python",
   "name": "python",
   "nbconvert_exporter": "python",
   "pygments_lexer": "ipython3",
   "version": "3.9.17"
  }
 },
 "nbformat": 4,
 "nbformat_minor": 2
}
