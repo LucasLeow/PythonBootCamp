{
 "cells": [
  {
   "cell_type": "code",
   "execution_count": null,
   "metadata": {},
   "outputs": [],
   "source": [
    "import pandas as pd\n",
    "import matplotlib.pyplot as plt"
   ]
  },
  {
   "cell_type": "code",
   "execution_count": null,
   "metadata": {},
   "outputs": [],
   "source": [
    "color_df = pd.read_csv('data/colors.csv')\n",
    "color_df.head()"
   ]
  },
  {
   "cell_type": "code",
   "execution_count": null,
   "metadata": {},
   "outputs": [],
   "source": [
    "color_df.shape"
   ]
  },
  {
   "cell_type": "code",
   "execution_count": null,
   "metadata": {},
   "outputs": [],
   "source": [
    "print(f'Number of Unique Colors: {color_df[\"name\"].nunique()}')"
   ]
  },
  {
   "cell_type": "code",
   "execution_count": null,
   "metadata": {},
   "outputs": [],
   "source": [
    "# Number of opaque vs transparent (is_trans col)\n",
    "print(color_df.groupby('is_trans')['name'].count())\n",
    "print(f\"Number of opaque blocks: {color_df.groupby('is_trans')['name'].count()[0]}\")\n",
    "print(f\"Number of transparent blocks: {color_df.groupby('is_trans')['name'].count()[1]}\")"
   ]
  },
  {
   "cell_type": "code",
   "execution_count": null,
   "metadata": {},
   "outputs": [],
   "source": [
    "# Alternative method to getting count (categorical)\n",
    "color_df['is_trans'].value_counts()"
   ]
  },
  {
   "cell_type": "code",
   "execution_count": null,
   "metadata": {},
   "outputs": [],
   "source": []
  },
  {
   "cell_type": "markdown",
   "metadata": {},
   "source": [
    "### Lego THEMEs vs Lego SETS\n",
    "\n",
    "Walk into a LEGO store and you will see their products organized by theme.\n",
    "Theme includes:\n",
    "* Star Wars\n",
    "* Batman\n",
    "* Harry Potter etc.\n",
    "\n",
    "\n",
    "A Lego Set is a particular box of Lego or product. A single theme can have multiple sets"
   ]
  },
  {
   "cell_type": "code",
   "execution_count": null,
   "metadata": {},
   "outputs": [],
   "source": [
    "sets_df = pd.read_csv('data/sets.csv')\n",
    "sets_df.head()"
   ]
  },
  {
   "cell_type": "code",
   "execution_count": null,
   "metadata": {},
   "outputs": [],
   "source": [
    "sets_df.shape"
   ]
  },
  {
   "cell_type": "code",
   "execution_count": null,
   "metadata": {},
   "outputs": [],
   "source": [
    "first_year_release = sets_df.sort_values('year').reset_index(drop=True)['year'][0]\n",
    "print(f\"Year of first LEGO set release: {first_year_release}\")"
   ]
  },
  {
   "cell_type": "code",
   "execution_count": null,
   "metadata": {},
   "outputs": [],
   "source": [
    "for name in sets_df[sets_df['year'] == first_year_release]['name']:\n",
    "    print(name)"
   ]
  },
  {
   "cell_type": "code",
   "execution_count": null,
   "metadata": {},
   "outputs": [],
   "source": [
    "# Top 5 Lego sets with most number of parts\n",
    "sets_df.sort_values('num_parts', ascending=False).head()"
   ]
  },
  {
   "cell_type": "markdown",
   "metadata": {},
   "source": [
    "### Number of Sets Published year-on-year"
   ]
  },
  {
   "cell_type": "code",
   "execution_count": null,
   "metadata": {},
   "outputs": [],
   "source": [
    "sets_by_year = sets_df.groupby('year').count()['name']"
   ]
  },
  {
   "cell_type": "code",
   "execution_count": null,
   "metadata": {},
   "outputs": [],
   "source": [
    "fig = plt.figure(figsize=(14, 10))\n",
    "ax = fig.add_subplot()\n",
    "\n",
    "ax.plot(sets_by_year.index[:-2], sets_by_year[:-2])\n",
    "ax.tick_params(axis='both', colors='white', labelsize=14, size=14)\n",
    "plt.xlabel('Year', fontsize=14, color='white')\n",
    "plt.ylabel('No. of Sets', fontsize=14, color='white')"
   ]
  },
  {
   "cell_type": "code",
   "execution_count": null,
   "metadata": {},
   "outputs": [],
   "source": []
  },
  {
   "cell_type": "markdown",
   "metadata": {},
   "source": [
    "### Pandas Aggregate Function"
   ]
  },
  {
   "cell_type": "code",
   "execution_count": null,
   "metadata": {},
   "outputs": [],
   "source": [
    "themes_by_year = sets_df.groupby('year').agg({\n",
    "    'theme_id': pd.Series.nunique\n",
    "})"
   ]
  },
  {
   "cell_type": "code",
   "execution_count": null,
   "metadata": {},
   "outputs": [],
   "source": [
    "themes_by_year.head()"
   ]
  },
  {
   "cell_type": "code",
   "execution_count": null,
   "metadata": {},
   "outputs": [],
   "source": [
    "fig = plt.figure(figsize=(14, 10))\n",
    "ax = fig.add_subplot()\n",
    "\n",
    "ax.plot(themes_by_year[:-2].index, themes_by_year[:-2])\n",
    "ax.tick_params(axis='both', colors='white', labelsize=14, size=14)\n",
    "plt.xlabel('Year', fontsize=14, color='white')\n",
    "plt.ylabel('No. of Unique Themes', fontsize=14, color='white')"
   ]
  },
  {
   "cell_type": "code",
   "execution_count": null,
   "metadata": {},
   "outputs": [],
   "source": []
  },
  {
   "cell_type": "markdown",
   "metadata": {},
   "source": [
    "### Superimposing Line Charts with Separate Axes\n",
    "* i.e plotting No. of themes & No. of Sets in single plot\n",
    "* Problem: No. of themes (0 to 90), No. of sets (0 to 900)\n",
    "* Soln: Use 2 separate y axes, but in single plot"
   ]
  },
  {
   "cell_type": "code",
   "execution_count": null,
   "metadata": {},
   "outputs": [],
   "source": [
    "fig = plt.figure(figsize=(14, 10))\n",
    "ax1 = plt.gca() # get current axes\n",
    "ax2 = ax1.twinx() # share same x-axis, but different y-axis\n",
    "\n",
    "ax1.tick_params(axis='both', colors='white', labelsize=14, size=14)\n",
    "ax2.tick_params(axis='both', colors='white', labelsize=14, size=14)\n",
    "\n",
    "ax1.plot(sets_by_year.index[:-2], sets_by_year[:-2], color='r', label='unique sets')\n",
    "ax2.plot(themes_by_year.index[:-2], themes_by_year[:-2], color='b', label='unique themes')\n",
    "\n",
    "ax1.set_xlabel('Year', color='white', fontsize=14)\n",
    "\n",
    "ax1.set_ylabel('Unique Sets', color='r', fontsize=14)\n",
    "ax2.set_ylabel('Unique Themes', color='b', fontsize=14)\n",
    "\n",
    "plt.legend(fontsize=\"18\")"
   ]
  },
  {
   "cell_type": "code",
   "execution_count": null,
   "metadata": {},
   "outputs": [],
   "source": []
  },
  {
   "cell_type": "markdown",
   "metadata": {},
   "source": [
    "### ScatterPlots"
   ]
  },
  {
   "cell_type": "code",
   "execution_count": null,
   "metadata": {},
   "outputs": [],
   "source": [
    "parts_pet_set = sets_df.groupby('year').agg({\n",
    "    'num_parts': 'mean'\n",
    "})\n",
    "parts_pet_set.head()"
   ]
  },
  {
   "cell_type": "code",
   "execution_count": null,
   "metadata": {},
   "outputs": [],
   "source": [
    "fig = plt.figure(figsize=(14, 10))\n",
    "ax = fig.add_subplot()\n",
    "\n",
    "ax.scatter(parts_pet_set.index[:-2], parts_pet_set[:-2])\n",
    "ax.tick_params(axis='both', colors='white', labelsize=14, size=14)\n",
    "plt.xlabel('Year', fontsize=14, color='white')\n",
    "plt.ylabel('Avg Parts / set', fontsize=14, color='white')"
   ]
  },
  {
   "cell_type": "code",
   "execution_count": null,
   "metadata": {},
   "outputs": [],
   "source": []
  },
  {
   "cell_type": "code",
   "execution_count": null,
   "metadata": {},
   "outputs": [],
   "source": [
    "sets_df['theme_id'].value_counts()"
   ]
  },
  {
   "cell_type": "code",
   "execution_count": null,
   "metadata": {},
   "outputs": [],
   "source": [
    "theme_df = pd.read_csv('data/themes.csv')\n",
    "theme_df.head()"
   ]
  },
  {
   "cell_type": "code",
   "execution_count": null,
   "metadata": {},
   "outputs": [],
   "source": [
    "theme_df.shape"
   ]
  },
  {
   "cell_type": "code",
   "execution_count": null,
   "metadata": {},
   "outputs": [],
   "source": [
    "star_war_ids = list(theme_df[theme_df['name'] == 'Star Wars']['id'].values)\n",
    "print(star_war_ids)"
   ]
  },
  {
   "cell_type": "code",
   "execution_count": null,
   "metadata": {},
   "outputs": [],
   "source": [
    "sets_df[sets_df['theme_id'].isin(star_war_ids)]"
   ]
  },
  {
   "cell_type": "code",
   "execution_count": null,
   "metadata": {},
   "outputs": [],
   "source": [
    "merge_df = pd.merge(sets_df, theme_df, left_on='theme_id', right_on='id')\n",
    "merge_df.head()"
   ]
  },
  {
   "cell_type": "code",
   "execution_count": null,
   "metadata": {},
   "outputs": [],
   "source": [
    "# merge_df.drop(columns=['parent_id', 'id'], axis=1, inplace=True)\n",
    "merge_df.rename(columns={\n",
    "    \"name_x\": \"set_name\",\n",
    "    \"name_y\": \"theme_name\"\n",
    "}, inplace=True)\n",
    "merge_df.head()"
   ]
  },
  {
   "cell_type": "code",
   "execution_count": null,
   "metadata": {},
   "outputs": [],
   "source": [
    "merge_df['theme_name'].value_counts()"
   ]
  },
  {
   "cell_type": "code",
   "execution_count": null,
   "metadata": {},
   "outputs": [],
   "source": [
    "merge_df['theme_name'].value_counts()"
   ]
  },
  {
   "cell_type": "code",
   "execution_count": null,
   "metadata": {},
   "outputs": [],
   "source": [
    "data_to_show = 10\n",
    "theme_names = merge_df['theme_name'].value_counts().index[:data_to_show]\n",
    "theme_counts = merge_df['theme_name'].value_counts().values[:data_to_show]\n",
    "\n",
    "plt.figure(figsize=(14, 8))\n",
    "ax = fig.add_subplot()\n",
    "\n",
    "plt.bar(theme_names, theme_counts)\n",
    "\n",
    "ax.tick_params(axis='both', colors='white', labelsize=14, size=14)\n",
    "plt.xlabel('Set Names', fontsize=14, color='white')\n",
    "plt.ylabel('No. of Sets', fontsize=14, color='white')\n"
   ]
  },
  {
   "cell_type": "code",
   "execution_count": null,
   "metadata": {},
   "outputs": [],
   "source": []
  }
 ],
 "metadata": {
  "kernelspec": {
   "display_name": "pandas",
   "language": "python",
   "name": "python3"
  },
  "language_info": {
   "codemirror_mode": {
    "name": "ipython",
    "version": 3
   },
   "file_extension": ".py",
   "mimetype": "text/x-python",
   "name": "python",
   "nbconvert_exporter": "python",
   "pygments_lexer": "ipython3",
   "version": "3.9.17"
  }
 },
 "nbformat": 4,
 "nbformat_minor": 2
}
