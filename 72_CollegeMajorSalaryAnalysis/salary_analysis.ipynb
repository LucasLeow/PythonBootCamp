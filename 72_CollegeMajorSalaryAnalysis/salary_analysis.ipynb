{
 "cells": [
  {
   "cell_type": "code",
   "execution_count": null,
   "metadata": {},
   "outputs": [],
   "source": [
    "import pandas as pd\n",
    "df = pd.read_csv('salaries_by_college_major.csv')"
   ]
  },
  {
   "cell_type": "code",
   "execution_count": null,
   "metadata": {},
   "outputs": [],
   "source": [
    "df.head()"
   ]
  },
  {
   "cell_type": "code",
   "execution_count": 21,
   "metadata": {},
   "outputs": [
    {
     "name": "stdout",
     "output_type": "stream",
     "text": [
      "Q1. How many rows & cols does dataframe have: \n",
      "Number of rows: 51 | Number of cols: 6\n"
     ]
    }
   ],
   "source": [
    "print('Q1. How many rows & cols does dataframe have: ') \n",
    "print(f'Number of rows: {df.shape[0]} | Number of cols: {df.shape[1]}')"
   ]
  },
  {
   "cell_type": "code",
   "execution_count": 22,
   "metadata": {},
   "outputs": [
    {
     "name": "stdout",
     "output_type": "stream",
     "text": [
      "Q2. What are the labels for the columns: \n",
      "Label for columns:\n",
      "\t -  Undergraduate Major\n",
      "\t -  Starting Median Salary\n",
      "\t -  Mid-Career Median Salary\n",
      "\t -  Mid-Career 10th Percentile Salary\n",
      "\t -  Mid-Career 90th Percentile Salary\n",
      "\t -  Group\n"
     ]
    }
   ],
   "source": [
    "print('Q2. What are the labels for the columns: ')\n",
    "print(f'Label for columns:')\n",
    "for col in df.columns:\n",
    "    print('\\t - ', col)"
   ]
  },
  {
   "cell_type": "code",
   "execution_count": 27,
   "metadata": {},
   "outputs": [
    {
     "name": "stdout",
     "output_type": "stream",
     "text": [
      "Q3. Are there any missing values in dataframe?\n",
      "\n",
      " Undergraduate Major                  0\n",
      "Starting Median Salary               1\n",
      "Mid-Career Median Salary             1\n",
      "Mid-Career 10th Percentile Salary    1\n",
      "Mid-Career 90th Percentile Salary    1\n",
      "Group                                1\n",
      "dtype: int64\n",
      "\n",
      "       Undergraduate Major  Starting Median Salary  Mid-Career Median Salary  \\\n",
      "50  Source: PayScale Inc.                     NaN                       NaN   \n",
      "\n",
      "    Mid-Career 10th Percentile Salary  Mid-Career 90th Percentile Salary Group  \n",
      "50                                NaN                                NaN   NaN  \n"
     ]
    }
   ],
   "source": [
    "print('Q3. Are there any missing values in dataframe?')\n",
    "print('\\n', df.isna().sum())\n",
    "\n",
    "print('\\n', df[df.isna().any(axis=1)])"
   ]
  },
  {
   "cell_type": "code",
   "execution_count": 18,
   "metadata": {},
   "outputs": [
    {
     "data": {
      "text/html": [
       "<div>\n",
       "<style scoped>\n",
       "    .dataframe tbody tr th:only-of-type {\n",
       "        vertical-align: middle;\n",
       "    }\n",
       "\n",
       "    .dataframe tbody tr th {\n",
       "        vertical-align: top;\n",
       "    }\n",
       "\n",
       "    .dataframe thead th {\n",
       "        text-align: right;\n",
       "    }\n",
       "</style>\n",
       "<table border=\"1\" class=\"dataframe\">\n",
       "  <thead>\n",
       "    <tr style=\"text-align: right;\">\n",
       "      <th></th>\n",
       "      <th>Undergraduate Major</th>\n",
       "      <th>Starting Median Salary</th>\n",
       "      <th>Mid-Career Median Salary</th>\n",
       "      <th>Mid-Career 10th Percentile Salary</th>\n",
       "      <th>Mid-Career 90th Percentile Salary</th>\n",
       "      <th>Group</th>\n",
       "    </tr>\n",
       "  </thead>\n",
       "  <tbody>\n",
       "    <tr>\n",
       "      <th>50</th>\n",
       "      <td>Source: PayScale Inc.</td>\n",
       "      <td>NaN</td>\n",
       "      <td>NaN</td>\n",
       "      <td>NaN</td>\n",
       "      <td>NaN</td>\n",
       "      <td>NaN</td>\n",
       "    </tr>\n",
       "  </tbody>\n",
       "</table>\n",
       "</div>"
      ],
      "text/plain": [
       "      Undergraduate Major  Starting Median Salary  Mid-Career Median Salary  \\\n",
       "50  Source: PayScale Inc.                     NaN                       NaN   \n",
       "\n",
       "    Mid-Career 10th Percentile Salary  Mid-Career 90th Percentile Salary Group  \n",
       "50                                NaN                                NaN   NaN  "
      ]
     },
     "execution_count": 18,
     "metadata": {},
     "output_type": "execute_result"
    }
   ],
   "source": [
    "df[df.isna().any(axis=1)]"
   ]
  },
  {
   "cell_type": "code",
   "execution_count": null,
   "metadata": {},
   "outputs": [],
   "source": [
    "# Remove null values\n",
    "clean_df = df.dropna()"
   ]
  },
  {
   "cell_type": "markdown",
   "metadata": {},
   "source": [
    "* dropna() because only single row NaN belonging to unimportant data\n",
    "* In reality, need to analyse dataset carefully and perform appropriate Imputation"
   ]
  },
  {
   "cell_type": "markdown",
   "metadata": {},
   "source": []
  }
 ],
 "metadata": {
  "kernelspec": {
   "display_name": "Python 3",
   "language": "python",
   "name": "python3"
  },
  "language_info": {
   "codemirror_mode": {
    "name": "ipython",
    "version": 3
   },
   "file_extension": ".py",
   "mimetype": "text/x-python",
   "name": "python",
   "nbconvert_exporter": "python",
   "pygments_lexer": "ipython3",
   "version": "3.9.17"
  }
 },
 "nbformat": 4,
 "nbformat_minor": 2
}
