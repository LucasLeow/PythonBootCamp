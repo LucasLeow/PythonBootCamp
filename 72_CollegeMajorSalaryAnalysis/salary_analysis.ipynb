{
 "cells": [
  {
   "cell_type": "code",
   "execution_count": null,
   "metadata": {},
   "outputs": [],
   "source": [
    "import pandas as pd\n",
    "df = pd.read_csv('salaries_by_college_major.csv')"
   ]
  },
  {
   "cell_type": "code",
   "execution_count": null,
   "metadata": {},
   "outputs": [],
   "source": [
    "df.head()"
   ]
  },
  {
   "cell_type": "code",
   "execution_count": null,
   "metadata": {},
   "outputs": [],
   "source": [
    "print('Q1. How many rows & cols does dataframe have: ') \n",
    "print(f'Number of rows: {df.shape[0]} | Number of cols: {df.shape[1]}')"
   ]
  },
  {
   "cell_type": "code",
   "execution_count": null,
   "metadata": {},
   "outputs": [],
   "source": [
    "print('Q2. What are the labels for the columns: ')\n",
    "print(f'Label for columns:')\n",
    "for col in df.columns:\n",
    "    print('\\t - ', col)"
   ]
  },
  {
   "cell_type": "code",
   "execution_count": null,
   "metadata": {},
   "outputs": [],
   "source": [
    "print('Q3. Are there any missing values in dataframe?')\n",
    "print('\\n', df.isna().sum())\n",
    "\n",
    "print('\\n', df[df.isna().any(axis=1)])"
   ]
  },
  {
   "cell_type": "code",
   "execution_count": null,
   "metadata": {},
   "outputs": [],
   "source": [
    "df[df.isna().any(axis=1)]"
   ]
  },
  {
   "cell_type": "code",
   "execution_count": null,
   "metadata": {},
   "outputs": [],
   "source": [
    "# Remove null values\n",
    "clean_df = df.dropna()"
   ]
  },
  {
   "cell_type": "markdown",
   "metadata": {},
   "source": [
    "* dropna() because only single row NaN belonging to unimportant data\n",
    "* In reality, need to analyse dataset carefully and perform appropriate Imputation"
   ]
  },
  {
   "cell_type": "code",
   "execution_count": null,
   "metadata": {},
   "outputs": [],
   "source": []
  },
  {
   "cell_type": "markdown",
   "metadata": {},
   "source": [
    "### Accessing Columns & Cells"
   ]
  },
  {
   "cell_type": "code",
   "execution_count": null,
   "metadata": {},
   "outputs": [],
   "source": [
    "# Highest starting salary (college major)\n",
    "highest_start_idx = clean_df['Starting Median Salary'].idxmax() # Find idx with max Median Salary\n",
    "highest_start_maj = clean_df['Undergraduate Major'].iloc[highest_start_idx]\n",
    "highest_start_sal = clean_df['Starting Median Salary'].iloc[highest_start_idx]\n",
    "\n",
    "print('Highest Starting')\n",
    "print(f'Major: {highest_start_maj}, Salary: {highest_start_sal}')"
   ]
  },
  {
   "cell_type": "code",
   "execution_count": null,
   "metadata": {},
   "outputs": [],
   "source": [
    "# Highest mid-career salary (college major)\n",
    "highest_mid_idx = clean_df['Mid-Career Median Salary'].idxmax()\n",
    "highest_mid_maj = clean_df['Undergraduate Major'].iloc[highest_mid_idx]\n",
    "highest_mid_sal = clean_df['Starting Median Salary'].iloc[highest_mid_idx]\n",
    "\n",
    "print('Highest mid career')\n",
    "print(f'Major: {highest_mid_maj}, Salary: {highest_mid_sal}')"
   ]
  },
  {
   "cell_type": "code",
   "execution_count": null,
   "metadata": {},
   "outputs": [],
   "source": [
    "# Lowest starting salary (college major)\n",
    "lowest_start_idx = clean_df['Starting Median Salary'].idxmin()\n",
    "lowest_start_maj = clean_df['Undergraduate Major'].iloc[lowest_start_idx]\n",
    "lowest_start_sal = clean_df['Starting Median Salary'].iloc[lowest_start_idx]\n",
    "\n",
    "print('Lowest Starting')\n",
    "print(f'Major: {lowest_start_maj}, Salary: {lowest_start_sal}')"
   ]
  },
  {
   "cell_type": "code",
   "execution_count": null,
   "metadata": {},
   "outputs": [],
   "source": [
    "# Lowest mid-career salary (college major)\n",
    "lowest_mid_idx = clean_df['Mid-Career Median Salary'].idxmin()\n",
    "lowest_mid_maj = clean_df['Undergraduate Major'].iloc[lowest_mid_idx]\n",
    "lowest_mid_sal = clean_df['Starting Median Salary'].iloc[lowest_mid_idx]\n",
    "\n",
    "print('Lowest Mid Career')\n",
    "print(f'Major: {lowest_mid_maj}, Salary: {lowest_mid_sal}')"
   ]
  },
  {
   "cell_type": "code",
   "execution_count": null,
   "metadata": {},
   "outputs": [],
   "source": []
  },
  {
   "cell_type": "markdown",
   "metadata": {},
   "source": [
    "### Sorting Values & Adding Columns"
   ]
  },
  {
   "cell_type": "markdown",
   "metadata": {},
   "source": []
  }
 ],
 "metadata": {
  "kernelspec": {
   "display_name": "Python 3",
   "language": "python",
   "name": "python3"
  },
  "language_info": {
   "codemirror_mode": {
    "name": "ipython",
    "version": 3
   },
   "file_extension": ".py",
   "mimetype": "text/x-python",
   "name": "python",
   "nbconvert_exporter": "python",
   "pygments_lexer": "ipython3",
   "version": "3.9.17"
  }
 },
 "nbformat": 4,
 "nbformat_minor": 2
}
