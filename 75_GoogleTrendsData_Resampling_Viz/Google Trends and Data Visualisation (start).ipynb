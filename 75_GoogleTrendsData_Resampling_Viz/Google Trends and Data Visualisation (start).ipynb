{
 "cells": [
  {
   "cell_type": "markdown",
   "metadata": {},
   "source": [
    "# Introduction"
   ]
  },
  {
   "cell_type": "markdown",
   "metadata": {},
   "source": [
    "Google Trends gives us an estimate of search volume. Let's explore if search popularity relates to other kinds of data. Perhaps there are patterns in Google's search volume and the price of Bitcoin or a hot stock like Tesla. Perhaps search volume for the term \"Unemployment Benefits\" can tell us something about the actual unemployment rate? \n",
    "\n",
    "Data Sources: <br>\n",
    "<ul>\n",
    "<li> <a href=\"https://fred.stlouisfed.org/series/UNRATE/\">Unemployment Rate from FRED</a></li>\n",
    "<li> <a href=\"https://trends.google.com/trends/explore\">Google Trends</a> </li>  \n",
    "<li> <a href=\"https://finance.yahoo.com/quote/TSLA/history?p=TSLA\">Yahoo Finance for Tesla Stock Price</a> </li>    \n",
    "<li> <a href=\"https://finance.yahoo.com/quote/BTC-USD/history?p=BTC-USD\">Yahoo Finance for Bitcoin Stock Price</a> </li>\n",
    "</ul>"
   ]
  },
  {
   "cell_type": "markdown",
   "metadata": {},
   "source": [
    "# Import Statements"
   ]
  },
  {
   "cell_type": "code",
   "execution_count": null,
   "metadata": {},
   "outputs": [],
   "source": [
    "import pandas as pd\n",
    "import matplotlib.pyplot as plt\n",
    "import matplotlib.dates as mdates"
   ]
  },
  {
   "cell_type": "markdown",
   "metadata": {},
   "source": [
    "# Read the Data\n",
    "\n",
    "Download and add the .csv files to the same folder as your notebook."
   ]
  },
  {
   "cell_type": "code",
   "execution_count": null,
   "metadata": {},
   "outputs": [],
   "source": [
    "df_tesla = pd.read_csv('TESLA Search Trend vs Price.csv')\n",
    "\n",
    "df_btc_search = pd.read_csv('Bitcoin Search Trend.csv')\n",
    "df_btc_price = pd.read_csv('Daily Bitcoin Price.csv')\n",
    "\n",
    "df_unemployment = pd.read_csv('UE Benefits Search vs UE Rate 2004-19.csv')"
   ]
  },
  {
   "cell_type": "markdown",
   "metadata": {},
   "source": [
    "# Data Exploration"
   ]
  },
  {
   "cell_type": "markdown",
   "metadata": {},
   "source": [
    "### Tesla"
   ]
  },
  {
   "cell_type": "markdown",
   "metadata": {},
   "source": [
    "**Challenge**: <br>\n",
    "<ul>\n",
    "<li>What are the shapes of the dataframes? </li>\n",
    "<li>How many rows and columns? </li>\n",
    "<li>What are the column names? </li>\n",
    "<li>Complete the f-string to show the largest/smallest number in the search data column</li> \n",
    "<li>Try the <code>.describe()</code> function to see some useful descriptive statistics</li>\n",
    "<li>What is the periodicity of the time series data (daily, weekly, monthly)? </li>\n",
    "<li>What does a value of 100 in the Google Trend search popularity actually mean?</li>\n",
    "</ul>"
   ]
  },
  {
   "cell_type": "code",
   "execution_count": null,
   "metadata": {},
   "outputs": [],
   "source": [
    "print(df_tesla.head())\n",
    "print(df_btc_search.head())\n",
    "print(df_btc_price.head())\n",
    "print(df_unemployment.head())"
   ]
  },
  {
   "cell_type": "code",
   "execution_count": null,
   "metadata": {},
   "outputs": [],
   "source": [
    "print(df_tesla.shape)\n",
    "print(df_btc_search.shape)\n",
    "print(df_btc_price.shape)\n",
    "print(df_unemployment.shape)"
   ]
  },
  {
   "cell_type": "code",
   "execution_count": null,
   "metadata": {},
   "outputs": [],
   "source": [
    "print(df_tesla.describe())\n",
    "print(df_btc_search.describe())\n",
    "print(df_unemployment.describe())"
   ]
  },
  {
   "cell_type": "markdown",
   "metadata": {},
   "source": [
    "* Search values represents a percentage of total searches based on region & time.\n",
    "* i.e 100 = peak popularity, 50 = half as popular etc.\n",
    "* Actual search volumes are not published"
   ]
  },
  {
   "cell_type": "code",
   "execution_count": null,
   "metadata": {},
   "outputs": [],
   "source": []
  },
  {
   "cell_type": "markdown",
   "metadata": {},
   "source": [
    "# Data Cleaning"
   ]
  },
  {
   "cell_type": "markdown",
   "metadata": {},
   "source": [
    "### Check for Missing Values"
   ]
  },
  {
   "cell_type": "markdown",
   "metadata": {},
   "source": [
    "**Challenge**: Are there any missing values in any of the dataframes? If so, which row/rows have missing values? How many missing values are there?"
   ]
  },
  {
   "cell_type": "code",
   "execution_count": null,
   "metadata": {},
   "outputs": [],
   "source": [
    "df_tesla.isna().sum()"
   ]
  },
  {
   "cell_type": "code",
   "execution_count": null,
   "metadata": {},
   "outputs": [],
   "source": [
    "df_btc_search.isna().sum()"
   ]
  },
  {
   "cell_type": "code",
   "execution_count": null,
   "metadata": {},
   "outputs": [],
   "source": [
    "df_unemployment.isna().sum()"
   ]
  },
  {
   "cell_type": "code",
   "execution_count": null,
   "metadata": {},
   "outputs": [],
   "source": [
    "print(f'Missing values for Tesla?: ')\n",
    "print(f'Missing values for U/E?: ')\n",
    "print(f'Missing values for BTC Search?: ')"
   ]
  },
  {
   "cell_type": "code",
   "execution_count": null,
   "metadata": {},
   "outputs": [],
   "source": [
    "df_btc_price.isna().sum()"
   ]
  },
  {
   "cell_type": "code",
   "execution_count": null,
   "metadata": {},
   "outputs": [],
   "source": [
    "df_btc_price[df_btc_price.isna().any(axis=1)]"
   ]
  },
  {
   "cell_type": "code",
   "execution_count": null,
   "metadata": {},
   "outputs": [],
   "source": [
    "print(f'Missing values for BTC price?: ')"
   ]
  },
  {
   "cell_type": "code",
   "execution_count": null,
   "metadata": {},
   "outputs": [],
   "source": [
    "print(f'Number of missing values: ')"
   ]
  },
  {
   "cell_type": "markdown",
   "metadata": {},
   "source": [
    "**Challenge**: Remove any missing values that you found. "
   ]
  },
  {
   "cell_type": "code",
   "execution_count": null,
   "metadata": {},
   "outputs": [],
   "source": [
    "df_btc_price.dropna(inplace=True)"
   ]
  },
  {
   "cell_type": "markdown",
   "metadata": {},
   "source": [
    "### Convert Strings to DateTime Objects"
   ]
  },
  {
   "cell_type": "markdown",
   "metadata": {},
   "source": [
    "**Challenge**: Check the data type of the entries in the DataFrame MONTH or DATE columns. Convert any strings in to Datetime objects. Do this for all 4 DataFrames. Double check if your type conversion was successful."
   ]
  },
  {
   "cell_type": "code",
   "execution_count": null,
   "metadata": {},
   "outputs": [],
   "source": [
    "df_tesla['MONTH'] = pd.to_datetime(df_tesla['MONTH'])\n",
    "df_btc_price['DATE'] = pd.to_datetime(df_btc_price['DATE'])\n",
    "df_btc_search['MONTH'] = pd.to_datetime(df_btc_search['MONTH'])\n",
    "df_unemployment['MONTH'] = pd.to_datetime(df_unemployment['MONTH'])\n"
   ]
  },
  {
   "cell_type": "markdown",
   "metadata": {},
   "source": [
    "### Converting from Daily to Monthly Data\n",
    "\n",
    "[Pandas .resample() documentation](https://pandas.pydata.org/pandas-docs/stable/reference/api/pandas.DataFrame.resample.html) <br>\n",
    "\n",
    "\n",
    "#### Resampling Purpose:\n",
    "- bitcoin price is daily data\n",
    "- bitcoin search is monthly data\n",
    "- need to convert daily data to monthly data\n",
    "    - 'M' : Monthly\n",
    "    - 'Y' : Yearly\n",
    "    - 'T' : minute"
   ]
  },
  {
   "cell_type": "code",
   "execution_count": null,
   "metadata": {},
   "outputs": [],
   "source": [
    "# Last available price (Take price at month end)\n",
    "df_btc_price_monthly = df_btc_price.resample(rule='M', on='DATE').last()\n",
    "\n",
    "# Average price over entire month (Take average price over entire month)\n",
    "# df_btc_price_monthly = df_btc_price.resample(rule='M', on='DATE').last()"
   ]
  },
  {
   "cell_type": "code",
   "execution_count": null,
   "metadata": {},
   "outputs": [],
   "source": [
    "print(df_btc_price_monthly.shape)\n",
    "print(df_btc_search.shape)"
   ]
  },
  {
   "cell_type": "markdown",
   "metadata": {},
   "source": [
    "# Data Visualisation"
   ]
  },
  {
   "cell_type": "markdown",
   "metadata": {},
   "source": [
    "### Notebook Formatting & Style Helpers"
   ]
  },
  {
   "cell_type": "code",
   "execution_count": null,
   "metadata": {},
   "outputs": [],
   "source": [
    "# Create locators for ticks on the time axis"
   ]
  },
  {
   "cell_type": "markdown",
   "metadata": {},
   "source": []
  },
  {
   "cell_type": "code",
   "execution_count": null,
   "metadata": {},
   "outputs": [],
   "source": [
    "# Register date converters to avoid warning messages"
   ]
  },
  {
   "cell_type": "markdown",
   "metadata": {},
   "source": [
    "### Tesla Stock Price v.s. Search Volume"
   ]
  },
  {
   "cell_type": "markdown",
   "metadata": {},
   "source": [
    "**Challenge:** Plot the Tesla stock price against the Tesla search volume using a line chart and two different axes. Label one axis 'TSLA Stock Price' and the other 'Search Trend'. "
   ]
  },
  {
   "cell_type": "code",
   "execution_count": null,
   "metadata": {},
   "outputs": [],
   "source": [
    "df_tesla.head()"
   ]
  },
  {
   "cell_type": "markdown",
   "metadata": {},
   "source": []
  },
  {
   "cell_type": "code",
   "execution_count": null,
   "metadata": {},
   "outputs": [],
   "source": [
    "years = mdates.YearLocator()\n",
    "months = mdates.MonthLocator()\n",
    "years_fmt = mdates.DateFormatter('%Y')"
   ]
  },
  {
   "cell_type": "code",
   "execution_count": null,
   "metadata": {},
   "outputs": [],
   "source": [
    "fig = plt.figure(figsize=(16, 8))\n",
    "ax1 = plt.gca()\n",
    "ax2 = ax1.twinx() # both share same x-axis\n",
    "plt.title('Tesla Web Search vs Price', fontsize=18, color='white')\n",
    "\n",
    "\n",
    "ax1.tick_params(axis='x', colors='white', labelsize=14, size=14, rotation=45)\n",
    "ax1.tick_params(axis='y', colors='white', labelsize=14, size=14)\n",
    "ax2.tick_params(axis='both', colors='white', labelsize=14, size=14)\n",
    "\n",
    "ax1.plot(df_tesla['MONTH'], df_tesla['TSLA_USD_CLOSE'], color='red')\n",
    "ax2.plot(df_tesla['MONTH'], df_tesla['TSLA_WEB_SEARCH'], color='blue')\n",
    "\n",
    "ax1.set_xlabel('Year', color='white', fontsize=18)\n",
    "ax1.set_ylabel('TSLA Stock Price', color='coral', fontsize=14)\n",
    "ax2.set_ylabel('TSLA Search Trend', color='skyblue', fontsize=14)\n",
    "\n",
    "ax1.xaxis.set_major_locator(years)\n",
    "ax1.xaxis.set_minor_locator(months)\n",
    "ax1.tick_params(which='minor', color='white', size=8)\n",
    "\n",
    "ax1.xaxis.set_major_formatter(years_fmt)\n"
   ]
  },
  {
   "cell_type": "code",
   "execution_count": null,
   "metadata": {},
   "outputs": [],
   "source": []
  },
  {
   "cell_type": "markdown",
   "metadata": {},
   "source": [
    "### Bitcoin (BTC) Price v.s. Search Volume"
   ]
  },
  {
   "cell_type": "markdown",
   "metadata": {},
   "source": [
    "**Challenge**: Create the same chart for the Bitcoin Prices vs. Search volumes. <br>\n",
    "1. Modify the chart title to read 'Bitcoin News Search vs Resampled Price' <br>\n",
    "2. Change the y-axis label to 'BTC Price' <br>\n",
    "3. Change the y- and x-axis limits to improve the appearance <br>\n",
    "4. Investigate the [linestyles](https://matplotlib.org/3.2.1/api/_as_gen/matplotlib.pyplot.plot.html ) to make the BTC price a dashed line <br>\n",
    "5. Investigate the [marker types](https://matplotlib.org/3.2.1/api/markers_api.html) to make the search datapoints little circles <br>\n",
    "6. Were big increases in searches for Bitcoin accompanied by big increases in the price?"
   ]
  },
  {
   "cell_type": "code",
   "execution_count": null,
   "metadata": {},
   "outputs": [],
   "source": [
    "df_btc_price_monthly.head()"
   ]
  },
  {
   "cell_type": "code",
   "execution_count": null,
   "metadata": {},
   "outputs": [],
   "source": [
    "fig = plt.figure(figsize=(16, 8))\n",
    "ax1 = plt.gca()\n",
    "ax2 = ax1.twinx() # both share same x-axis\n",
    "plt.title('Bitcoin News Search vs Resampled Price', fontsize=18, color='white')\n",
    "\n",
    "\n",
    "ax1.tick_params(axis='x', colors='white', labelsize=14, size=14, rotation=45)\n",
    "ax1.tick_params(axis='y', colors='white', labelsize=14, size=14)\n",
    "ax2.tick_params(axis='both', colors='white', labelsize=14, size=14)\n",
    "\n",
    "ax1.plot(df_btc_price_monthly.index, df_btc_price_monthly['CLOSE'], color='red', linestyle='--')\n",
    "ax2.plot(df_btc_search['MONTH'], df_btc_search['BTC_NEWS_SEARCH'], color='blue', marker='o')\n",
    "\n",
    "ax1.set_xlabel('Year', color='white', fontsize=18)\n",
    "ax1.set_ylabel('BTC Monthly Close Price', color='coral', fontsize=14)\n",
    "ax2.set_ylabel('BTC Monthly News Search', color='skyblue', fontsize=14)\n",
    "\n",
    "ax1.xaxis.set_major_locator(years)\n",
    "ax1.xaxis.set_minor_locator(months)\n",
    "ax1.tick_params(which='minor', color='white', size=8)\n",
    "\n",
    "ax1.xaxis.set_major_formatter(years_fmt)"
   ]
  },
  {
   "cell_type": "code",
   "execution_count": null,
   "metadata": {},
   "outputs": [],
   "source": []
  },
  {
   "cell_type": "markdown",
   "metadata": {},
   "source": [
    "### Unemployement Benefits Search vs. Actual Unemployment in the U.S."
   ]
  },
  {
   "cell_type": "markdown",
   "metadata": {},
   "source": [
    "**Challenge** Plot the search for \"unemployment benefits\" against the unemployment rate. \n",
    "1. Change the title to: Monthly Search of \"Unemployment Benefits\" in the U.S. vs the U/E Rate <br>\n",
    "2. Change the y-axis label to: FRED U/E Rate <br>\n",
    "3. Change the axis limits <br>\n",
    "4. Add a grey [grid](https://matplotlib.org/3.2.1/api/_as_gen/matplotlib.pyplot.grid.html) to the chart to better see the years and the U/E rate values. Use dashes for the line style<br> \n",
    "5. Can you discern any seasonality in the searches? Is there a pattern? "
   ]
  },
  {
   "cell_type": "code",
   "execution_count": null,
   "metadata": {},
   "outputs": [],
   "source": [
    "df_unemployment.head()"
   ]
  },
  {
   "cell_type": "code",
   "execution_count": null,
   "metadata": {},
   "outputs": [],
   "source": [
    "fig = plt.figure(figsize=(16, 8))\n",
    "ax1 = plt.gca()\n",
    "ax2 = ax1.twinx() # both share same x-axis\n",
    "plt.title('Unemployment Benefits Search vs Unemployment Rate', fontsize=18, color='white')\n",
    "\n",
    "\n",
    "ax1.tick_params(axis='x', colors='white', labelsize=14, size=14, rotation=45)\n",
    "ax1.tick_params(axis='y', colors='white', labelsize=14, size=14)\n",
    "ax2.tick_params(axis='both', colors='white', labelsize=14, size=14)\n",
    "\n",
    "ax1.grid(color='grey', linestyle='--')\n",
    "ax1.plot(df_unemployment['MONTH'], df_unemployment['UNRATE'], color='red', linestyle='--')\n",
    "ax2.plot(df_unemployment['MONTH'], df_unemployment['UE_BENEFITS_WEB_SEARCH'], color='blue')\n",
    "\n",
    "ax1.set_xlabel('Year', color='white', fontsize=18)\n",
    "ax1.set_ylabel('Unemployment Rate', color='coral', fontsize=14)\n",
    "ax2.set_ylabel('Unemployment Benefits Search', color='skyblue', fontsize=14)\n",
    "\n",
    "ax1.xaxis.set_major_locator(years)\n",
    "ax1.xaxis.set_minor_locator(months)\n",
    "ax1.tick_params(which='minor', color='white', size=8)\n",
    "\n",
    "ax1.xaxis.set_major_formatter(years_fmt)"
   ]
  },
  {
   "cell_type": "markdown",
   "metadata": {},
   "source": [
    "**Challenge**: Calculate the 3-month or 6-month rolling average for the web searches. Plot the 6-month rolling average search data against the actual unemployment. What do you see in the chart? Which line moves first?\n"
   ]
  },
  {
   "cell_type": "code",
   "execution_count": null,
   "metadata": {},
   "outputs": [],
   "source": [
    "fig = plt.figure(figsize=(16, 8))\n",
    "ax1 = plt.gca()\n",
    "ax2 = ax1.twinx() # both share same x-axis\n",
    "plt.title('Unemployment Benefits Search vs Unemployment Rate', fontsize=18, color='white')\n",
    "\n",
    "\n",
    "ax1.tick_params(axis='x', colors='white', labelsize=14, size=14, rotation=45)\n",
    "ax1.tick_params(axis='y', colors='white', labelsize=14, size=14)\n",
    "ax2.tick_params(axis='both', colors='white', labelsize=14, size=14)\n",
    "\n",
    "rolling_df = df_unemployment[['UNRATE', 'UE_BENEFITS_WEB_SEARCH']].rolling(\n",
    "    window=5\n",
    ").mean()\n",
    "\n",
    "ax1.grid(color='grey', linestyle='--')\n",
    "ax1.plot(df_unemployment['MONTH'], rolling_df['UNRATE'], color='red', linestyle='--')\n",
    "ax2.plot(df_unemployment['MONTH'], rolling_df['UE_BENEFITS_WEB_SEARCH'], color='blue')\n",
    "\n",
    "ax1.set_xlabel('Year', color='white', fontsize=18)\n",
    "ax1.set_ylabel('Unemployment Rate', color='coral', fontsize=14)\n",
    "ax2.set_ylabel('Unemployment Benefits Search', color='skyblue', fontsize=14)\n",
    "\n",
    "ax1.xaxis.set_major_locator(years)\n",
    "ax1.xaxis.set_minor_locator(months)\n",
    "ax1.tick_params(which='minor', color='white', size=8)\n",
    "\n",
    "ax1.xaxis.set_major_formatter(years_fmt)"
   ]
  },
  {
   "cell_type": "markdown",
   "metadata": {},
   "source": [
    "### Including 2020 in Unemployment Charts"
   ]
  },
  {
   "cell_type": "markdown",
   "metadata": {},
   "source": [
    "**Challenge**: Read the data in the 'UE Benefits Search vs UE Rate 2004-20.csv' into a DataFrame. Convert the MONTH column to Pandas Datetime objects and then plot the chart. What do you see?"
   ]
  },
  {
   "cell_type": "code",
   "execution_count": null,
   "metadata": {},
   "outputs": [],
   "source": []
  },
  {
   "cell_type": "code",
   "execution_count": null,
   "metadata": {},
   "outputs": [],
   "source": []
  },
  {
   "cell_type": "code",
   "execution_count": null,
   "metadata": {},
   "outputs": [],
   "source": []
  }
 ],
 "metadata": {
  "kernelspec": {
   "display_name": "Python 3",
   "language": "python",
   "name": "python3"
  },
  "language_info": {
   "codemirror_mode": {
    "name": "ipython",
    "version": 3
   },
   "file_extension": ".py",
   "mimetype": "text/x-python",
   "name": "python",
   "nbconvert_exporter": "python",
   "pygments_lexer": "ipython3",
   "version": "3.9.17"
  }
 },
 "nbformat": 4,
 "nbformat_minor": 2
}
